{
 "cells": [
  {
   "cell_type": "code",
   "execution_count": 3,
   "metadata": {},
   "outputs": [],
   "source": [
    "lst = [1, 3, \"hej\", [1, 2 ,1], True, None, \"Nej\"]"
   ]
  },
  {
   "cell_type": "code",
   "execution_count": 4,
   "metadata": {},
   "outputs": [
    {
     "name": "stdout",
     "output_type": "stream",
     "text": [
      "Nej\n"
     ]
    }
   ],
   "source": [
    "print(lst[-1])  # Prints the last element"
   ]
  },
  {
   "cell_type": "code",
   "execution_count": 11,
   "metadata": {},
   "outputs": [
    {
     "name": "stdout",
     "output_type": "stream",
     "text": [
      "['hejhej', [1, 2, 1], True, None]\n",
      "['hejhej', True, 'Nej']\n",
      "[1, [1, 2, 1], 'Nej']\n"
     ]
    }
   ],
   "source": [
    "print(lst[2:6])  # Slices the list from 2 to 5 included\n",
    "print(lst[2:7:2])  # Slices the list from 2 to 6 included, but only every second element\n",
    "print(lst[::3])  # Slices the list, every third element"
   ]
  },
  {
   "cell_type": "code",
   "execution_count": 12,
   "metadata": {},
   "outputs": [],
   "source": [
    "lst[2] = \"hejhej\"  # Changes the value at the index"
   ]
  },
  {
   "cell_type": "code",
   "execution_count": 17,
   "metadata": {},
   "outputs": [
    {
     "name": "stdout",
     "output_type": "stream",
     "text": [
      "['Call', 'me', 'Ishmael', 1, 2, 3, 4]\n",
      "['Call', 'me', 'Ishmael', 'Call', 'me', 'Ishmael', 'Call', 'me', 'Ishmael', 1, 2, 3, 4]\n"
     ]
    }
   ],
   "source": [
    "fst_sentence = [\"Call\", \"me\", \"Ishmael\"]\n",
    "snd_sentence = [1, 2, 3, 4]\n",
    "\n",
    "\", \".join(fst_sentence)  # Join the array by comma\n",
    "\n",
    "print(fst_sentence + snd_sentence)\n",
    "print(fst_sentence * 3 + snd_sentence)"
   ]
  },
  {
   "cell_type": "code",
   "execution_count": null,
   "metadata": {},
   "outputs": [],
   "source": [
    "del fst_sentence[2]  # Deletes the element at index 2\n",
    "fst_sentence.remove(\"hejhej\")  # Deletes the element that has 'hejhej' as a value"
   ]
  },
  {
   "cell_type": "code",
   "execution_count": 18,
   "metadata": {},
   "outputs": [],
   "source": [
    "snd_sentence = fst_sentence[:]  # Copy the contents of the first list into the second. EXPENSIVE\n"
   ]
  },
  {
   "cell_type": "code",
   "execution_count": 20,
   "metadata": {},
   "outputs": [],
   "source": [
    "sorted(fst_sentence)  # Sorted copy of a list\n",
    "fst_sentence.sort()  # Sorts the list in memory"
   ]
  },
  {
   "cell_type": "code",
   "execution_count": 26,
   "metadata": {},
   "outputs": [
    {
     "name": "stdout",
     "output_type": "stream",
     "text": [
      "[0, 1, 2, 3, 4]\n",
      "[10, 11, 12, 13, 14]\n",
      "[10, 12, 14]\n",
      "[30, 28, 26, 24, 22, 20, 18, 16]\n"
     ]
    }
   ],
   "source": [
    "print(list(range(5)))\n",
    "print(list(range(10, 15)))\n",
    "print(list(range(10, 15, 2)))\n",
    "print(list(range(30, 15, -2)))  # Reverse "
   ]
  },
  {
   "cell_type": "code",
   "execution_count": 34,
   "metadata": {},
   "outputs": [
    {
     "data": {
      "text/plain": [
       "True"
      ]
     },
     "execution_count": 34,
     "metadata": {},
     "output_type": "execute_result"
    }
   ],
   "source": [
    "lst = list(range(5, 10))\n",
    "7 in lst  # Check if 7 is in the list\n",
    "\"You\" in lst and 6 in lst\n",
    "\"You\" not in lst and 6 in lst"
   ]
  },
  {
   "cell_type": "code",
   "execution_count": 35,
   "metadata": {},
   "outputs": [
    {
     "name": "stdout",
     "output_type": "stream",
     "text": [
      "337 ns ± 4.72 ns per loop (mean ± std. dev. of 7 runs, 1000000 loops each)\n",
      "1.99 ms ± 33.6 µs per loop (mean ± std. dev. of 7 runs, 100 loops each)\n"
     ]
    }
   ],
   "source": [
    "%timeit 55000 in range(100000)  # Takes less time with the in operator compared to a loop.\n",
    "\n",
    "def is_in(el, values):          # Loops are very slow\n",
    "    for value in values:\n",
    "        if el == value:\n",
    "            return True\n",
    "        \n",
    "%timeit is_in(55000, range(100000))"
   ]
  }
 ],
 "metadata": {
  "kernelspec": {
   "display_name": "Python 3",
   "language": "python",
   "name": "python3"
  },
  "language_info": {
   "codemirror_mode": {
    "name": "ipython",
    "version": 3
   },
   "file_extension": ".py",
   "mimetype": "text/x-python",
   "name": "python",
   "nbconvert_exporter": "python",
   "pygments_lexer": "ipython3",
   "version": "3.6.3"
  }
 },
 "nbformat": 4,
 "nbformat_minor": 2
}

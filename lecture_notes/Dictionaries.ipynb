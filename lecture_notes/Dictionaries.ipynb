{
 "cells": [
  {
   "cell_type": "code",
   "execution_count": 8,
   "metadata": {},
   "outputs": [
    {
     "data": {
      "text/plain": [
       "'c'"
      ]
     },
     "execution_count": 8,
     "metadata": {},
     "output_type": "execute_result"
    }
   ],
   "source": [
    "myDict = {\"hej\": 5, \"b\": \"c\", 4: [\"a\", 9, None]}\n",
    "myDict[\"b\"]"
   ]
  },
  {
   "cell_type": "code",
   "execution_count": 13,
   "metadata": {
    "collapsed": true
   },
   "outputs": [],
   "source": [
    "myDict[340] = \"Page in book\"\n",
    "del myDict[340]"
   ]
  },
  {
   "cell_type": "code",
   "execution_count": 31,
   "metadata": {},
   "outputs": [
    {
     "name": "stdout",
     "output_type": "stream",
     "text": [
      "5\n",
      "c\n",
      "['a', 9, None]\n"
     ]
    }
   ],
   "source": [
    "#for value in myDict.values():\n",
    "#    print(value)\n",
    "\n",
    "#for key in myDict.keys():\n",
    "#    print(key)\n",
    "\n",
    "#for key, value in myDict.items():\n",
    "#    print(key, value)\n",
    "    \n",
    "for _, value in myDict.items():\n",
    "    print(value)"
   ]
  },
  {
   "cell_type": "code",
   "execution_count": 33,
   "metadata": {},
   "outputs": [
    {
     "data": {
      "text/plain": [
       "[5, 'c', ['a', 9, None]]"
      ]
     },
     "execution_count": 33,
     "metadata": {},
     "output_type": "execute_result"
    }
   ],
   "source": [
    "list(myDict.values())"
   ]
  },
  {
   "cell_type": "code",
   "execution_count": 36,
   "metadata": {},
   "outputs": [
    {
     "data": {
      "text/plain": [
       "False"
      ]
     },
     "execution_count": 36,
     "metadata": {},
     "output_type": "execute_result"
    }
   ],
   "source": [
    "\"farvel\" in myDict.keys()  # Check if key is there"
   ]
  },
  {
   "cell_type": "code",
   "execution_count": 43,
   "metadata": {},
   "outputs": [
    {
     "data": {
      "text/plain": [
       "'unknown'"
      ]
     },
     "execution_count": 43,
     "metadata": {},
     "output_type": "execute_result"
    }
   ],
   "source": [
    "color_val = myDict.get(\"Python\", \"unknown\")\n",
    "color_val"
   ]
  },
  {
   "cell_type": "code",
   "execution_count": null,
   "metadata": {
    "collapsed": true
   },
   "outputs": [],
   "source": []
  },
  {
   "cell_type": "code",
   "execution_count": null,
   "metadata": {
    "collapsed": true
   },
   "outputs": [],
   "source": []
  },
  {
   "cell_type": "code",
   "execution_count": 49,
   "metadata": {},
   "outputs": [
    {
     "data": {
      "text/plain": [
       "{',': 1,\n",
       " 'B': 1,\n",
       " 'C': 1,\n",
       " 'H': 1,\n",
       " 'L': 1,\n",
       " 'a': 9,\n",
       " 'b': 1,\n",
       " 'c': 3,\n",
       " 'e': 3,\n",
       " 'f': 1,\n",
       " 'i': 6,\n",
       " 'j': 1,\n",
       " 'k': 1,\n",
       " 'l': 6,\n",
       " 'm': 3,\n",
       " 'n': 2,\n",
       " 'o': 9,\n",
       " 'r': 4,\n",
       " 's': 6,\n",
       " 't': 4,\n",
       " 'u': 1,\n",
       " 'v': 2,\n",
       " 'w': 1,\n",
       " 'y': 2}"
      ]
     },
     "execution_count": 49,
     "metadata": {},
     "output_type": "execute_result"
    }
   ],
   "source": [
    "fst_paragraph = \"Lovro Biljeskovic is a small boye from Croatiastan, a small country close to Hawaii\"\n",
    "count = {}\n",
    "for character in fst_paragraph:\n",
    "    count.setdefault(character, 0)\n",
    "    count[character] += 1\n",
    "\n",
    "del count[\" \"]\n",
    "count"
   ]
  },
  {
   "cell_type": "code",
   "execution_count": null,
   "metadata": {
    "collapsed": true
   },
   "outputs": [],
   "source": []
  },
  {
   "cell_type": "code",
   "execution_count": 52,
   "metadata": {},
   "outputs": [
    {
     "name": "stdout",
     "output_type": "stream",
     "text": [
      "{4: ['a', 9, None], 'b': 'c', 'hej': 5}\n"
     ]
    }
   ],
   "source": [
    "import pprint\n",
    "\n",
    "pprint.pprint(myDict)  # Prints dicts in a nicer way"
   ]
  },
  {
   "cell_type": "code",
   "execution_count": null,
   "metadata": {
    "collapsed": true
   },
   "outputs": [],
   "source": []
  },
  {
   "cell_type": "code",
   "execution_count": null,
   "metadata": {
    "collapsed": true
   },
   "outputs": [],
   "source": []
  },
  {
   "cell_type": "code",
   "execution_count": null,
   "metadata": {
    "collapsed": true
   },
   "outputs": [],
   "source": []
  },
  {
   "cell_type": "code",
   "execution_count": 419,
   "metadata": {
    "collapsed": true
   },
   "outputs": [],
   "source": [
    "import random\n",
    "\n",
    "grammar = {\n",
    "    \"_S\" : [\"_NP _VP\"],\n",
    "    \"_NP\" : [\"_N\", \"_A _NP _P _A _N\"],\n",
    "    \"_VP\" : [\"_V\", \"_V _NP\"],\n",
    "    \"_N\" : [\"developer\", \"teacher\", \"student\"],\n",
    "    \"_A\" : [\"smart\", \"interesting\", \"nice\", \"desperate\", \"annoying\"],\n",
    "    \"_P\" : [\"about\", \"near\"],\n",
    "    \"_V\" : [\"learns\", \"trains\", \"tests\", \"is\", \"studies\", \"asks\"]\n",
    "}"
   ]
  },
  {
   "cell_type": "code",
   "execution_count": 441,
   "metadata": {},
   "outputs": [
    {
     "name": "stdout",
     "output_type": "stream",
     "text": [
      "teacher asks annoying annoying desperate annoying smart smart interesting student near interesting student about smart teacher about nice developer about desperate developer near nice student near desperate teacher near desperate developer \n"
     ]
    }
   ],
   "source": [
    "def expand(grammar_array, rule):\n",
    "    if rule[0][0] != \"_\":\n",
    "        return random.choice(rule) + \" \"\n",
    "    sentence = \"\"\n",
    "    options = random.choice(rule).split(\" \")\n",
    "    for option in options:\n",
    "        sentence += expand(grammar_array, grammar_array[option])\n",
    "    return sentence\n",
    "\n",
    "sentence = expand(grammar, grammar[\"_S\"])\n",
    "print(sentence)"
   ]
  },
  {
   "cell_type": "code",
   "execution_count": null,
   "metadata": {},
   "outputs": [],
   "source": []
  },
  {
   "cell_type": "code",
   "execution_count": null,
   "metadata": {
    "collapsed": true
   },
   "outputs": [],
   "source": []
  },
  {
   "cell_type": "code",
   "execution_count": null,
   "metadata": {
    "collapsed": true
   },
   "outputs": [],
   "source": []
  },
  {
   "cell_type": "code",
   "execution_count": null,
   "metadata": {
    "collapsed": true
   },
   "outputs": [],
   "source": []
  },
  {
   "cell_type": "code",
   "execution_count": null,
   "metadata": {
    "collapsed": true
   },
   "outputs": [],
   "source": []
  },
  {
   "cell_type": "code",
   "execution_count": null,
   "metadata": {
    "collapsed": true
   },
   "outputs": [],
   "source": []
  }
 ],
 "metadata": {
  "kernelspec": {
   "display_name": "Python 3",
   "language": "python",
   "name": "python3"
  },
  "language_info": {
   "codemirror_mode": {
    "name": "ipython",
    "version": 3
   },
   "file_extension": ".py",
   "mimetype": "text/x-python",
   "name": "python",
   "nbconvert_exporter": "python",
   "pygments_lexer": "ipython3",
   "version": "3.6.3"
  }
 },
 "nbformat": 4,
 "nbformat_minor": 2
}

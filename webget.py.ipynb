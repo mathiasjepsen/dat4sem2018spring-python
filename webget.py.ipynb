{
 "cells": [
  {
   "cell_type": "markdown",
   "metadata": {},
   "source": [
    "Write a module webget.py that exposes a function to download a file from the web in case it does not exist locally already. The function shall have the following signature download(url, to=None) where the keyword argument to specifies where to save a file locally and with which name. If to == None then the file shall be saved in the current working directory ./ with the same name as it has at its origin. For example, calling your program as in the following\n",
    "\n",
    "import webget\n",
    "\n",
    "url = 'http://data.kk.dk/dataset/76ecf368-bf2d-46a2-bcf8-adaf37662528/resource/9286af17-f74e-46c9-a428-9fb707542189/download/befkbhalderstatkode.csv'\n",
    "webget.download(url)\n",
    "will download the remote file to ./befkbhalderstatkode.csv.\n",
    "Likely, you will need functions from the standard library modules os, and urllib. For example, read the doc strings for the following functions and implement the given function stub with help of them.\n",
    "\n",
    "  * os.path.isfile?\n",
    "  * os.path.join?\n",
    "  * os.path.basename?\n",
    "  * urllib.parse?\n",
    "  * urllib.request.urlretrieve?\n",
    "\n",
    "\n",
    "\n",
    "  import os\n",
    "  import urllib.request as req\n",
    "  from urllib.parse import urlparse\n",
    "\n",
    "\n",
    "  def download(url, to=None):\n",
    "      \"\"\"Download a remote file specified by a URL to a \n",
    "      local directory.\n",
    "\n",
    "      :param url: str\n",
    "          URL pointing to a remote file.\n",
    "\n",
    "      :param to: str\n",
    "          Local path, absolute or relative, with a filename \n",
    "          to the file storing the contents of the remote file.\n",
    "      \"\"\"\n",
    "\n",
    "      # TODO: Implement me!\n",
    "      pass\n",
    "\n"
   ]
  },
  {
   "cell_type": "code",
   "execution_count": null,
   "metadata": {
    "collapsed": true
   },
   "outputs": [],
   "source": []
  },
  {
   "cell_type": "code",
   "execution_count": 16,
   "metadata": {},
   "outputs": [],
   "source": [
    "import os\n",
    "import urllib.request as req\n",
    "from urllib.parse import urlparse\n",
    "\n",
    "url = 'http://data.kk.dk/dataset/76ecf368-bf2d-46a2-bcf8-adaf37662528/resource/9286af17-f74e-46c9-a428-9fb707542189/download/befkbhalderstatkode.csv'\n",
    "\n",
    "def download(url, to=None):\n",
    "    \"\"\"Download a remote file specified by a URL to a \n",
    "    local directory.\n",
    "\n",
    "    :param url: str\n",
    "      URL pointing to a remote file.\n",
    "\n",
    "    :param to: str\n",
    "      Local path, absolute or relative, with a filename \n",
    "      to the file storing the contents of the remote file.\n",
    "    \"\"\"\n",
    "\n",
    "    # TODO: Implement me!\n",
    "    if to:\n",
    "        localfile = to\n",
    "    else:\n",
    "        filename = os.path.basename(urlparse(url).path)\n",
    "        localfile = os.path.join(\".\", filename)\n",
    "        \n",
    "    print(\"Downloading file to {}\".format(localfile))\n",
    "    \n",
    "    if not os.path.isfile(url):\n",
    "        req.urlretrieve(url, localfile)\n",
    "    \n",
    "    return localfile\n",
    "    "
   ]
  }
 ],
 "metadata": {
  "kernelspec": {
   "display_name": "Python 3",
   "language": "python",
   "name": "python3"
  },
  "language_info": {
   "codemirror_mode": {
    "name": "ipython",
    "version": 3
   },
   "file_extension": ".py",
   "mimetype": "text/x-python",
   "name": "python",
   "nbconvert_exporter": "python",
   "pygments_lexer": "ipython3",
   "version": "3.6.3"
  }
 },
 "nbformat": 4,
 "nbformat_minor": 2
}

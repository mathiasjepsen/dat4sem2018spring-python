{
 "cells": [
  {
   "cell_type": "code",
   "execution_count": 1,
   "metadata": {},
   "outputs": [
    {
     "name": "stdout",
     "output_type": "stream",
     "text": [
      "0\n",
      "1\n",
      "2\n",
      "3\n",
      "Hello,\n",
      "I\n",
      "am\n",
      "here!\n",
      "0 4\n",
      "1 3\n",
      "2 2\n",
      "3 1\n"
     ]
    }
   ],
   "source": [
    "values = range(4, 0, -1)\n",
    "\n",
    "for i in [0, 1, 2, 3]:\n",
    "    print(i)\n",
    "    \n",
    "for i in \"Hello, I am here!\".split():\n",
    "    print(i)\n",
    "\n",
    "for index, element in enumerate(values):  \n",
    "    print(index, element)"
   ]
  },
  {
   "cell_type": "code",
   "execution_count": null,
   "metadata": {
    "collapsed": true
   },
   "outputs": [],
   "source": [
    "while True:\n",
    "    expression = input(\"> \")\n",
    "    if expression == \"quit\":\n",
    "        break\n",
    "    if expression == \"nop!\":\n",
    "        continue"
   ]
  },
  {
   "cell_type": "code",
   "execution_count": null,
   "metadata": {
    "collapsed": true
   },
   "outputs": [],
   "source": []
  },
  {
   "cell_type": "code",
   "execution_count": 27,
   "metadata": {},
   "outputs": [],
   "source": [
    "import random\n",
    "\n",
    "articles = [\"the\", \"a\", \"an\"] \n",
    "\n",
    "nouns = [\"time\", \"year\", \"people\", \"way\", \"day\", \"man\", \"thing\", \"woman\",\n",
    "         \"life\", \"child\", \"world\", \"school\", \"state\", \"family\", \"student\", \n",
    "         \"group\", \"country\", \"problem\", \"hand\", \"part\", \"place\", \"case\", \n",
    "         \"week\", \"company\", \"system\", \"program\", \"question\", \"work\", \n",
    "         \"government\", \"number\", \"night\", \"point\", \"home\", \"water\", \"room\", \n",
    "         \"mother\", \"area\", \"money\", \"story\", \"fact\", \"month\", \"lot\", \"right\", \n",
    "         \"study\", \"book\", \"eye\", \"job\", \"word\", \"business\", \"issue\", \"side\", \n",
    "         \"kind\", \"head\", \"house\", \"service\", \"friend\", \"father\", \"power\", \n",
    "         \"hour\", \"game\", \"line\", \"end\", \"member\", \"law\", \"car\", \"city\", \n",
    "         \"community\", \"name\", \"president\", \"team\", \"minute\", \"idea\", \"kid\", \n",
    "         \"body\", \"information\", \"back\", \"parent\", \"face\", \"others\", \"level\", \n",
    "         \"office\", \"door\", \"health\", \"person\", \"art\", \"war\", \"history\", \n",
    "         \"party\", \"result\", \"change\", \"morning\", \"reason\", \"research\", \"girl\", \n",
    "         \"guy\", \"moment\", \"air\", \"teacher\", \"force\", \"education\"] \n",
    "\n",
    "verbs = [\"be\", \"have\", \"do\", \"say\", \"go\", \"can\", \"get\", \"would\", \"make\",        \n",
    "         \"know\", \"will\", \"think\", \"take\", \"see\", \"come\", \"could\", \"want\", \n",
    "         \"look\", \"use\", \"find\", \"give\", \"tell\", \"work\", \"may\", \"should\", \n",
    "         \"call\", \"try\", \"ask\", \"need\", \"feel\", \"become\", \"leave\", \"put\", \n",
    "         \"mean\", \"keep\", \"let\", \"begin\", \"seem\", \"help\", \"talk\", \"turn\", \n",
    "         \"start\", \"might\", \"show\", \"hear\", \"play\", \"run\", \"move\", \"like\", \n",
    "         \"live\", \"believe\", \"hold\", \"bring\", \"happen\", \"must\", \"write\", \n",
    "         \"provide\", \"sit\", \"stand\", \"lose\", \"pay\", \"meet\", \"include\", \n",
    "         \"continue\", \"set\", \"learn\", \"change\", \"lead\", \"understand\", \"watch\", \n",
    "         \"follow\", \"stop\", \"create\", \"speak\", \"read\", \"allow\", \"add\", \"spend\", \n",
    "         \"grow\", \"open\", \"walk\", \"win\", \"offer\", \"remember\", \"love\", \n",
    "         \"consider\", \"appear\", \"buy\", \"wait\", \"serve\", \"die\", \"send\", \"expect\", \n",
    "         \"build\", \"stay\", \"fall\", \"cut\", \"reach\", \"kill\", \"remain\"]\n",
    "\n",
    "adjectives = [\"other\", \"new\", \"good\", \"high\", \"old\", \"great\", \"big\", \"American\",\n",
    "       \"small\", \"large\", \"national\", \"young\", \"different\", \"black\", \"long\", \n",
    "       \"little\", \"important\", \"political\", \"bad\", \"white\", \"real\", \"best\", \n",
    "       \"right\", \"social\", \"only\", \"public\", \"sure\", \"low\", \"early\", \"able\", \n",
    "       \"human\", \"local\", \"late\", \"hard\", \"major\", \"better\", \"economic\", \n",
    "       \"strong\", \"possible\", \"whole\", \"free\", \"military\", \"true\", \"federal\", \n",
    "       \"international\", \"full\", \"special\", \"easy\", \"clear\", \"recent\", \n",
    "       \"certain\", \"personal\", \"open\", \"red\", \"difficult\", \"available\", \n",
    "       \"likely\", \"short\", \"single\", \"medical\", \"current\", \"wrong\", \"private\", \n",
    "       \"past\", \"foreign\", \"fine\", \"common\", \"poor\", \"natural\", \"significant\", \n",
    "       \"similar\", \"hot\", \"dead\", \"central\", \"happy\", \"serious\", \"ready\", \n",
    "       \"simple\", \"left\", \"physical\", \"general\", \"environmental\", \"financial\", \n",
    "       \"blue\", \"democratic\", \"dark\", \"various\", \"entire\", \"close\", \"legal\", \n",
    "       \"religious\", \"cold\", \"final\", \"main\", \"green\", \"nice\", \"huge\", \n",
    "       \"popular\", \"traditional\", \"cultural\"] "
   ]
  },
  {
   "cell_type": "code",
   "execution_count": 32,
   "metadata": {},
   "outputs": [
    {
     "name": "stdout",
     "output_type": "stream",
     "text": [
      "an main team like\n"
     ]
    }
   ],
   "source": [
    "article = random.choices(articles)\n",
    "noun = random.choices(nouns)\n",
    "verb = random.choices(verbs)\n",
    "adjective = random.choices(adjectives)\n",
    "sentence = \" \".join(article + adjective + noun + verb)\n",
    "print(sentence)"
   ]
  },
  {
   "cell_type": "code",
   "execution_count": 39,
   "metadata": {},
   "outputs": [
    {
     "data": {
      "text/plain": [
       "3000000"
      ]
     },
     "execution_count": 39,
     "metadata": {},
     "output_type": "execute_result"
    }
   ],
   "source": [
    "lst = []\n",
    "for article in articles:\n",
    "    for adjective in adjectives:\n",
    "        for noun in nouns:\n",
    "            for verb in verbs:\n",
    "                lst.append(\" \".join([article + adjective + noun + verb]))\n",
    "\n",
    "len(lst)"
   ]
  },
  {
   "cell_type": "code",
   "execution_count": null,
   "metadata": {
    "collapsed": true
   },
   "outputs": [],
   "source": []
  },
  {
   "cell_type": "code",
   "execution_count": null,
   "metadata": {
    "collapsed": true
   },
   "outputs": [],
   "source": []
  }
 ],
 "metadata": {
  "kernelspec": {
   "display_name": "Python 3",
   "language": "python",
   "name": "python3"
  },
  "language_info": {
   "codemirror_mode": {
    "name": "ipython",
    "version": 3
   },
   "file_extension": ".py",
   "mimetype": "text/x-python",
   "name": "python",
   "nbconvert_exporter": "python",
   "pygments_lexer": "ipython3",
   "version": "3.6.3"
  }
 },
 "nbformat": 4,
 "nbformat_minor": 2
}
